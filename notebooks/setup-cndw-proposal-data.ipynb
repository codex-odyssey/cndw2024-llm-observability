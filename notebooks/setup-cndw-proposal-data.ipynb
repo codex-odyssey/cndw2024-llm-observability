{
 "cells": [
  {
   "cell_type": "markdown",
   "metadata": {},
   "source": [
    "提出されたプロポーザルから採択セッションを抜き出すノートブック"
   ]
  },
  {
   "cell_type": "code",
   "execution_count": 4,
   "metadata": {},
   "outputs": [],
   "source": [
    "import pandas as pd\n",
    "\n",
    "df = pd.read_csv(filepath_or_buffer=\"../data/cndw2024_all_all.csv\", delimiter=\",\")\n",
    "\n",
    "# track_idが存在するセッションを採択セッションとして扱う\n",
    "df_accepted = df[df[\"track_id\"].notnull()]\n",
    "# RAGで使用するのは、title, abstractで十分\n",
    "df_accepted = df_accepted[[\"title\", \"abstract\"]]\n",
    "df_accepted.head()\n",
    "df_accepted.to_csv(path_or_buf=\"../data/cndw2024_accepted_sessions.csv\", index=False)"
   ]
  }
 ],
 "metadata": {
  "kernelspec": {
   "display_name": ".venv",
   "language": "python",
   "name": "python3"
  },
  "language_info": {
   "codemirror_mode": {
    "name": "ipython",
    "version": 3
   },
   "file_extension": ".py",
   "mimetype": "text/x-python",
   "name": "python",
   "nbconvert_exporter": "python",
   "pygments_lexer": "ipython3",
   "version": "3.12.5"
  }
 },
 "nbformat": 4,
 "nbformat_minor": 2
}
